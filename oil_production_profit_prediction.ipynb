{
 "cells": [
  {
   "cell_type": "markdown",
   "metadata": {},
   "source": [
    "# Выбор локации для скважины"
   ]
  },
  {
   "cell_type": "markdown",
   "metadata": {},
   "source": [
    "Допустим, вы работаете в добывающей компании «ГлавРосГосНефть». Нужно решить, где бурить новую скважину.\n",
    "\n",
    "Вам предоставлены пробы нефти в трёх регионах: в каждом 10 000 месторождений, где измерили качество нефти и объём её запасов. Постройте модель машинного обучения, которая поможет определить регион, где добыча принесёт наибольшую прибыль. Проанализируйте возможную прибыль и риски техникой *Bootstrap.*\n",
    "\n",
    "Шаги для выбора локации:\n",
    "\n",
    "- В избранном регионе ищут месторождения, для каждого определяют значения признаков;\n",
    "- Строят модель и оценивают объём запасов;\n",
    "- Выбирают месторождения с самым высокими оценками значений. Количество месторождений зависит от бюджета компании и стоимости разработки одной скважины;\n",
    "- Прибыль равна суммарной прибыли отобранных месторождений."
   ]
  },
  {
   "cell_type": "markdown",
   "metadata": {},
   "source": [
    "## Загрузка и подготовка данных"
   ]
  },
  {
   "cell_type": "code",
   "execution_count": 1,
   "metadata": {},
   "outputs": [],
   "source": [
    "import pandas as pd\n",
    "import matplotlib.pyplot as plt\n",
    "from scipy import stats as st\n",
    "import numpy as np\n",
    "import random\n",
    "import seaborn as sb\n",
    "from sklearn.model_selection import train_test_split\n",
    "from sklearn.metrics import confusion_matrix\n",
    "from sklearn.metrics import f1_score \n",
    "from sklearn.metrics import roc_auc_score\n",
    "from sklearn.utils import shuffle\n",
    "from sklearn.metrics import roc_curve\n",
    "from sklearn.linear_model import LinearRegression\n",
    "from sklearn.metrics import mean_squared_error"
   ]
  },
  {
   "cell_type": "code",
   "execution_count": 2,
   "metadata": {
    "scrolled": false
   },
   "outputs": [
    {
     "name": "stdout",
     "output_type": "stream",
     "text": [
      "<class 'pandas.core.frame.DataFrame'>\n",
      "RangeIndex: 100000 entries, 0 to 99999\n",
      "Data columns (total 5 columns):\n",
      " #   Column   Non-Null Count   Dtype  \n",
      "---  ------   --------------   -----  \n",
      " 0   id       100000 non-null  object \n",
      " 1   f0       100000 non-null  float64\n",
      " 2   f1       100000 non-null  float64\n",
      " 3   f2       100000 non-null  float64\n",
      " 4   product  100000 non-null  float64\n",
      "dtypes: float64(4), object(1)\n",
      "memory usage: 3.8+ MB\n",
      "None\n"
     ]
    },
    {
     "data": {
      "text/html": [
       "<div>\n",
       "<style scoped>\n",
       "    .dataframe tbody tr th:only-of-type {\n",
       "        vertical-align: middle;\n",
       "    }\n",
       "\n",
       "    .dataframe tbody tr th {\n",
       "        vertical-align: top;\n",
       "    }\n",
       "\n",
       "    .dataframe thead th {\n",
       "        text-align: right;\n",
       "    }\n",
       "</style>\n",
       "<table border=\"1\" class=\"dataframe\">\n",
       "  <thead>\n",
       "    <tr style=\"text-align: right;\">\n",
       "      <th></th>\n",
       "      <th>id</th>\n",
       "      <th>f0</th>\n",
       "      <th>f1</th>\n",
       "      <th>f2</th>\n",
       "      <th>product</th>\n",
       "    </tr>\n",
       "  </thead>\n",
       "  <tbody>\n",
       "    <tr>\n",
       "      <th>0</th>\n",
       "      <td>txEyH</td>\n",
       "      <td>0.705745</td>\n",
       "      <td>-0.497823</td>\n",
       "      <td>1.221170</td>\n",
       "      <td>105.280062</td>\n",
       "    </tr>\n",
       "    <tr>\n",
       "      <th>1</th>\n",
       "      <td>2acmU</td>\n",
       "      <td>1.334711</td>\n",
       "      <td>-0.340164</td>\n",
       "      <td>4.365080</td>\n",
       "      <td>73.037750</td>\n",
       "    </tr>\n",
       "    <tr>\n",
       "      <th>2</th>\n",
       "      <td>409Wp</td>\n",
       "      <td>1.022732</td>\n",
       "      <td>0.151990</td>\n",
       "      <td>1.419926</td>\n",
       "      <td>85.265647</td>\n",
       "    </tr>\n",
       "    <tr>\n",
       "      <th>3</th>\n",
       "      <td>iJLyR</td>\n",
       "      <td>-0.032172</td>\n",
       "      <td>0.139033</td>\n",
       "      <td>2.978566</td>\n",
       "      <td>168.620776</td>\n",
       "    </tr>\n",
       "    <tr>\n",
       "      <th>4</th>\n",
       "      <td>Xdl7t</td>\n",
       "      <td>1.988431</td>\n",
       "      <td>0.155413</td>\n",
       "      <td>4.751769</td>\n",
       "      <td>154.036647</td>\n",
       "    </tr>\n",
       "  </tbody>\n",
       "</table>\n",
       "</div>"
      ],
      "text/plain": [
       "      id        f0        f1        f2     product\n",
       "0  txEyH  0.705745 -0.497823  1.221170  105.280062\n",
       "1  2acmU  1.334711 -0.340164  4.365080   73.037750\n",
       "2  409Wp  1.022732  0.151990  1.419926   85.265647\n",
       "3  iJLyR -0.032172  0.139033  2.978566  168.620776\n",
       "4  Xdl7t  1.988431  0.155413  4.751769  154.036647"
      ]
     },
     "metadata": {},
     "output_type": "display_data"
    },
    {
     "name": "stdout",
     "output_type": "stream",
     "text": [
      "=============================================\n",
      "<class 'pandas.core.frame.DataFrame'>\n",
      "RangeIndex: 100000 entries, 0 to 99999\n",
      "Data columns (total 5 columns):\n",
      " #   Column   Non-Null Count   Dtype  \n",
      "---  ------   --------------   -----  \n",
      " 0   id       100000 non-null  object \n",
      " 1   f0       100000 non-null  float64\n",
      " 2   f1       100000 non-null  float64\n",
      " 3   f2       100000 non-null  float64\n",
      " 4   product  100000 non-null  float64\n",
      "dtypes: float64(4), object(1)\n",
      "memory usage: 3.8+ MB\n",
      "None\n"
     ]
    },
    {
     "data": {
      "text/html": [
       "<div>\n",
       "<style scoped>\n",
       "    .dataframe tbody tr th:only-of-type {\n",
       "        vertical-align: middle;\n",
       "    }\n",
       "\n",
       "    .dataframe tbody tr th {\n",
       "        vertical-align: top;\n",
       "    }\n",
       "\n",
       "    .dataframe thead th {\n",
       "        text-align: right;\n",
       "    }\n",
       "</style>\n",
       "<table border=\"1\" class=\"dataframe\">\n",
       "  <thead>\n",
       "    <tr style=\"text-align: right;\">\n",
       "      <th></th>\n",
       "      <th>id</th>\n",
       "      <th>f0</th>\n",
       "      <th>f1</th>\n",
       "      <th>f2</th>\n",
       "      <th>product</th>\n",
       "    </tr>\n",
       "  </thead>\n",
       "  <tbody>\n",
       "    <tr>\n",
       "      <th>0</th>\n",
       "      <td>kBEdx</td>\n",
       "      <td>-15.001348</td>\n",
       "      <td>-8.276000</td>\n",
       "      <td>-0.005876</td>\n",
       "      <td>3.179103</td>\n",
       "    </tr>\n",
       "    <tr>\n",
       "      <th>1</th>\n",
       "      <td>62mP7</td>\n",
       "      <td>14.272088</td>\n",
       "      <td>-3.475083</td>\n",
       "      <td>0.999183</td>\n",
       "      <td>26.953261</td>\n",
       "    </tr>\n",
       "    <tr>\n",
       "      <th>2</th>\n",
       "      <td>vyE1P</td>\n",
       "      <td>6.263187</td>\n",
       "      <td>-5.948386</td>\n",
       "      <td>5.001160</td>\n",
       "      <td>134.766305</td>\n",
       "    </tr>\n",
       "    <tr>\n",
       "      <th>3</th>\n",
       "      <td>KcrkZ</td>\n",
       "      <td>-13.081196</td>\n",
       "      <td>-11.506057</td>\n",
       "      <td>4.999415</td>\n",
       "      <td>137.945408</td>\n",
       "    </tr>\n",
       "    <tr>\n",
       "      <th>4</th>\n",
       "      <td>AHL4O</td>\n",
       "      <td>12.702195</td>\n",
       "      <td>-8.147433</td>\n",
       "      <td>5.004363</td>\n",
       "      <td>134.766305</td>\n",
       "    </tr>\n",
       "  </tbody>\n",
       "</table>\n",
       "</div>"
      ],
      "text/plain": [
       "      id         f0         f1        f2     product\n",
       "0  kBEdx -15.001348  -8.276000 -0.005876    3.179103\n",
       "1  62mP7  14.272088  -3.475083  0.999183   26.953261\n",
       "2  vyE1P   6.263187  -5.948386  5.001160  134.766305\n",
       "3  KcrkZ -13.081196 -11.506057  4.999415  137.945408\n",
       "4  AHL4O  12.702195  -8.147433  5.004363  134.766305"
      ]
     },
     "metadata": {},
     "output_type": "display_data"
    },
    {
     "name": "stdout",
     "output_type": "stream",
     "text": [
      "=============================================\n",
      "<class 'pandas.core.frame.DataFrame'>\n",
      "RangeIndex: 100000 entries, 0 to 99999\n",
      "Data columns (total 5 columns):\n",
      " #   Column   Non-Null Count   Dtype  \n",
      "---  ------   --------------   -----  \n",
      " 0   id       100000 non-null  object \n",
      " 1   f0       100000 non-null  float64\n",
      " 2   f1       100000 non-null  float64\n",
      " 3   f2       100000 non-null  float64\n",
      " 4   product  100000 non-null  float64\n",
      "dtypes: float64(4), object(1)\n",
      "memory usage: 3.8+ MB\n",
      "None\n"
     ]
    },
    {
     "data": {
      "text/html": [
       "<div>\n",
       "<style scoped>\n",
       "    .dataframe tbody tr th:only-of-type {\n",
       "        vertical-align: middle;\n",
       "    }\n",
       "\n",
       "    .dataframe tbody tr th {\n",
       "        vertical-align: top;\n",
       "    }\n",
       "\n",
       "    .dataframe thead th {\n",
       "        text-align: right;\n",
       "    }\n",
       "</style>\n",
       "<table border=\"1\" class=\"dataframe\">\n",
       "  <thead>\n",
       "    <tr style=\"text-align: right;\">\n",
       "      <th></th>\n",
       "      <th>id</th>\n",
       "      <th>f0</th>\n",
       "      <th>f1</th>\n",
       "      <th>f2</th>\n",
       "      <th>product</th>\n",
       "    </tr>\n",
       "  </thead>\n",
       "  <tbody>\n",
       "    <tr>\n",
       "      <th>0</th>\n",
       "      <td>fwXo0</td>\n",
       "      <td>-1.146987</td>\n",
       "      <td>0.963328</td>\n",
       "      <td>-0.828965</td>\n",
       "      <td>27.758673</td>\n",
       "    </tr>\n",
       "    <tr>\n",
       "      <th>1</th>\n",
       "      <td>WJtFt</td>\n",
       "      <td>0.262778</td>\n",
       "      <td>0.269839</td>\n",
       "      <td>-2.530187</td>\n",
       "      <td>56.069697</td>\n",
       "    </tr>\n",
       "    <tr>\n",
       "      <th>2</th>\n",
       "      <td>ovLUW</td>\n",
       "      <td>0.194587</td>\n",
       "      <td>0.289035</td>\n",
       "      <td>-5.586433</td>\n",
       "      <td>62.871910</td>\n",
       "    </tr>\n",
       "    <tr>\n",
       "      <th>3</th>\n",
       "      <td>q6cA6</td>\n",
       "      <td>2.236060</td>\n",
       "      <td>-0.553760</td>\n",
       "      <td>0.930038</td>\n",
       "      <td>114.572842</td>\n",
       "    </tr>\n",
       "    <tr>\n",
       "      <th>4</th>\n",
       "      <td>WPMUX</td>\n",
       "      <td>-0.515993</td>\n",
       "      <td>1.716266</td>\n",
       "      <td>5.899011</td>\n",
       "      <td>149.600746</td>\n",
       "    </tr>\n",
       "  </tbody>\n",
       "</table>\n",
       "</div>"
      ],
      "text/plain": [
       "      id        f0        f1        f2     product\n",
       "0  fwXo0 -1.146987  0.963328 -0.828965   27.758673\n",
       "1  WJtFt  0.262778  0.269839 -2.530187   56.069697\n",
       "2  ovLUW  0.194587  0.289035 -5.586433   62.871910\n",
       "3  q6cA6  2.236060 -0.553760  0.930038  114.572842\n",
       "4  WPMUX -0.515993  1.716266  5.899011  149.600746"
      ]
     },
     "metadata": {},
     "output_type": "display_data"
    },
    {
     "name": "stdout",
     "output_type": "stream",
     "text": [
      "=============================================\n"
     ]
    }
   ],
   "source": [
    "df_0 = pd.read_csv('/datasets/geo_data_0.csv')\n",
    "df_1 = pd.read_csv('/datasets/geo_data_1.csv')\n",
    "df_2 = pd.read_csv('/datasets/geo_data_2.csv')\n",
    "df_all = [df_0, df_1, df_2]\n",
    "\n",
    "for i in df_all:\n",
    "    print(i.info())\n",
    "    display(i.head())\n",
    "    print('=============================================')\n"
   ]
  },
  {
   "cell_type": "markdown",
   "metadata": {},
   "source": [
    "Удалим столбец id во всех таблицах, как не несущий полезной информации"
   ]
  },
  {
   "cell_type": "code",
   "execution_count": 3,
   "metadata": {
    "scrolled": false
   },
   "outputs": [
    {
     "name": "stdout",
     "output_type": "stream",
     "text": [
      "<class 'pandas.core.frame.DataFrame'>\n",
      "RangeIndex: 100000 entries, 0 to 99999\n",
      "Data columns (total 4 columns):\n",
      " #   Column   Non-Null Count   Dtype  \n",
      "---  ------   --------------   -----  \n",
      " 0   f0       100000 non-null  float64\n",
      " 1   f1       100000 non-null  float64\n",
      " 2   f2       100000 non-null  float64\n",
      " 3   product  100000 non-null  float64\n",
      "dtypes: float64(4)\n",
      "memory usage: 3.1 MB\n"
     ]
    },
    {
     "data": {
      "text/plain": [
       "None"
      ]
     },
     "metadata": {},
     "output_type": "display_data"
    },
    {
     "name": "stdout",
     "output_type": "stream",
     "text": [
      "<class 'pandas.core.frame.DataFrame'>\n",
      "RangeIndex: 100000 entries, 0 to 99999\n",
      "Data columns (total 4 columns):\n",
      " #   Column   Non-Null Count   Dtype  \n",
      "---  ------   --------------   -----  \n",
      " 0   f0       100000 non-null  float64\n",
      " 1   f1       100000 non-null  float64\n",
      " 2   f2       100000 non-null  float64\n",
      " 3   product  100000 non-null  float64\n",
      "dtypes: float64(4)\n",
      "memory usage: 3.1 MB\n"
     ]
    },
    {
     "data": {
      "text/plain": [
       "None"
      ]
     },
     "metadata": {},
     "output_type": "display_data"
    },
    {
     "name": "stdout",
     "output_type": "stream",
     "text": [
      "<class 'pandas.core.frame.DataFrame'>\n",
      "RangeIndex: 100000 entries, 0 to 99999\n",
      "Data columns (total 4 columns):\n",
      " #   Column   Non-Null Count   Dtype  \n",
      "---  ------   --------------   -----  \n",
      " 0   f0       100000 non-null  float64\n",
      " 1   f1       100000 non-null  float64\n",
      " 2   f2       100000 non-null  float64\n",
      " 3   product  100000 non-null  float64\n",
      "dtypes: float64(4)\n",
      "memory usage: 3.1 MB\n"
     ]
    },
    {
     "data": {
      "text/plain": [
       "None"
      ]
     },
     "metadata": {},
     "output_type": "display_data"
    }
   ],
   "source": [
    "for i in range(len(df_all)):\n",
    "    df_all[i] = df_all[i].drop(['id'], axis=1)\n",
    "    display(df_all[i].info())"
   ]
  },
  {
   "cell_type": "markdown",
   "metadata": {},
   "source": [
    "Визуализируем распределение значений целевого признака в разных регионах и рассчитаем их средние значения"
   ]
  },
  {
   "cell_type": "code",
   "execution_count": 4,
   "metadata": {
    "scrolled": true
   },
   "outputs": [
    {
     "name": "stdout",
     "output_type": "stream",
     "text": [
      "92.50000000000001\n"
     ]
    },
    {
     "data": {
      "image/png": "[encoded data removed]",
      "text/plain": [
       "<Figure size 432x288 with 1 Axes>"
      ]
     },
     "metadata": {
      "needs_background": "light"
     },
     "output_type": "display_data"
    },
    {
     "name": "stdout",
     "output_type": "stream",
     "text": [
      "68.82500000000002\n"
     ]
    },
    {
     "data": {
      "image/png": "[encoded data removed]",
      "text/plain": [
       "<Figure size 432x288 with 1 Axes>"
      ]
     },
     "metadata": {
      "needs_background": "light"
     },
     "output_type": "display_data"
    },
    {
     "name": "stdout",
     "output_type": "stream",
     "text": [
      "95.00000000000004\n"
     ]
    },
    {
     "data": {
      "image/png": "[encoded data removed]",
      "text/plain": [
       "<Figure size 432x288 with 1 Axes>"
      ]
     },
     "metadata": {
      "needs_background": "light"
     },
     "output_type": "display_data"
    }
   ],
   "source": [
    "for i in range(len(df_all)):\n",
    "    print(df_all[i]['product'].mean())\n",
    "    plt.hist(df_all[i]['product'])\n",
    "    plt.show()"
   ]
  },
  {
   "cell_type": "markdown",
   "metadata": {},
   "source": [
    "## Обучение и проверка модели"
   ]
  },
  {
   "cell_type": "markdown",
   "metadata": {},
   "source": [
    "Разобьем данные на обучающую и валидационную выборки в соотношении 75:25."
   ]
  },
  {
   "cell_type": "code",
   "execution_count": 5,
   "metadata": {},
   "outputs": [
    {
     "name": "stdout",
     "output_type": "stream",
     "text": [
      "Размеры выборок региона: 0\n",
      "(75000, 3)\n",
      "(25000, 3)\n",
      "(75000,)\n",
      "(25000,)\n",
      "Размеры выборок региона: 1\n",
      "(75000, 3)\n",
      "(25000, 3)\n",
      "(75000,)\n",
      "(25000,)\n",
      "Размеры выборок региона: 2\n",
      "(75000, 3)\n",
      "(25000, 3)\n",
      "(75000,)\n",
      "(25000,)\n"
     ]
    }
   ],
   "source": [
    "df_split=[[],[],[]] # создаем список списков для сохранения разбитых выборок для каждого региона\n",
    "for split in range(len(df_all)):\n",
    "    features = df_all[split].drop('product',axis=1) # создаем переменную с признаками для каждого региона\n",
    "    target = df_all[split]['product']  # создаем переменную с  целевым признаком для каждого региона\n",
    "    features_train, features_valid, target_train, target_valid = train_test_split( # разбиваем на выборки в соотношении 75:25\n",
    "        features, target, test_size=0.25, random_state=12345)\n",
    "    for item in [features_train, features_valid, target_train, target_valid]:\n",
    "        df_split[split].append(item) # для каждого региона сохраняем 4 выборки\n",
    "    print(f'Размеры выборок региона: {split}')\n",
    "    for i in range(len(df_split[split])):\n",
    "        print(df_split[split][i].shape) # проверим размерность получившихся выборок"
   ]
  },
  {
   "cell_type": "code",
   "execution_count": 6,
   "metadata": {
    "scrolled": false
   },
   "outputs": [
    {
     "name": "stdout",
     "output_type": "stream",
     "text": [
      "средний запас предсказанного сырья региона 0 равен: 92.593\n",
      "RMSE: 6.13\n",
      "средний запас предсказанного сырья региона 1 равен: 68.729\n",
      "RMSE: 0.945\n",
      "средний запас предсказанного сырья региона 2 равен: 94.965\n",
      "RMSE: 6.327\n"
     ]
    }
   ],
   "source": [
    "models=[] # список для сохранения моделей для каждого региона\n",
    "predictions=[] # список для сохранения предсказаний для каждого региона\n",
    "for region in range(len(df_all)):\n",
    "    models.append(LinearRegression())\n",
    "    models[region].fit(df_split[region][0],df_split[region][2])  # обучаем модель на тренировочных выборках каждого региона\n",
    "    predictions.append(models[region].predict(df_split[region][1])) # добавляем в список предсказания по каждому региону\n",
    "    print(f'средний запас предсказанного сырья региона {region} равен: {predictions[region].mean().round(3)}')\n",
    "    mse = mean_squared_error(df_split[region][3], predictions[region], squared=False) #\n",
    "    print(f'RMSE: {(mse**0.5).round(3)}')"
   ]
  },
  {
   "cell_type": "markdown",
   "metadata": {},
   "source": [
    "RMSE минимальна у значений региона 1"
   ]
  },
  {
   "cell_type": "markdown",
   "metadata": {},
   "source": [
    "## Подготовка к расчёту прибыли"
   ]
  },
  {
   "cell_type": "markdown",
   "metadata": {},
   "source": [
    "Сохраним все ключевые значения в отдельных переменных"
   ]
  },
  {
   "cell_type": "code",
   "execution_count": 7,
   "metadata": {},
   "outputs": [
    {
     "name": "stdout",
     "output_type": "stream",
     "text": [
      "(25000,)\n",
      "(25000,)\n",
      "(25000,)\n",
      "(25000,)\n",
      "(25000,)\n",
      "(25000,)\n"
     ]
    }
   ],
   "source": [
    "BUDGET = 10000 # млн.рублей\n",
    "INCOME = .45 # Доход с каждой единицы продукта в млн.руб.\n",
    "target = []\n",
    "prediction = []\n",
    "for region in range(len(df_all)):\n",
    "    target.append(df_split[region][3].reset_index(drop=True))\n",
    "    print(target[region].shape)\n",
    "    prediction.append(pd.Series(predictions[region]))\n",
    "    print(prediction[region].shape)"
   ]
  },
  {
   "cell_type": "code",
   "execution_count": 8,
   "metadata": {},
   "outputs": [
    {
     "name": "stdout",
     "output_type": "stream",
     "text": [
      "111.11111111111111\n",
      "Средние запасы в регионе 0 составляют 92.5 тыс.баррелей\n",
      "Средние запасы в регионе 1 составляют 68.825 тыс.баррелей\n",
      "Средние запасы в регионе 2 составляют 95.0 тыс.баррелей\n"
     ]
    }
   ],
   "source": [
    "volume_lim = BUDGET/200/INCOME # достаточный объём сырья для безубыточной разработки новой скважины.\n",
    "print(volume_lim)\n",
    "for i in range(len(df_all)):\n",
    "    print(f'Средние запасы в регионе {i} составляют {df_all[i][\"product\"].mean().round(3)} тыс.баррелей')"
   ]
  },
  {
   "cell_type": "markdown",
   "metadata": {},
   "source": [
    "Рассчитанный объём сырья, необходимый  для безубыточной разработки новой скважины больше чем средние запасы сырья в каждом регионе.\n",
    "\n",
    "Создадим функцию для расчета прибыли по выбранным скважинам и предсказаниям модели:"
   ]
  },
  {
   "cell_type": "code",
   "execution_count": 9,
   "metadata": {},
   "outputs": [],
   "source": [
    "def revenue(target, probabilities, count):\n",
    "    predict_sorted = probabilities.sort_values(ascending=False) #сортируем значения предсказаний по убыванию\n",
    "    selected = target[predict_sorted.index][:count] #  определяем значения для отобранных скважин\n",
    "    profit = selected.sum() * INCOME - BUDGET # прибыль в рублях с 200 скважин\n",
    "    return profit"
   ]
  },
  {
   "cell_type": "markdown",
   "metadata": {},
   "source": [
    "## Расчёт прибыли и рисков "
   ]
  },
  {
   "cell_type": "markdown",
   "metadata": {},
   "source": [
    "Чтобы найти распределение прибыли, применим технику Bootstrap с 1000 выборок.\n",
    "Рассчитаем среднюю прибыль, 95%-й доверительный интервал и риск убытков"
   ]
  },
  {
   "cell_type": "code",
   "execution_count": 10,
   "metadata": {},
   "outputs": [
    {
     "name": "stdout",
     "output_type": "stream",
     "text": [
      "Расчет прибыли и рисков для региона 0:\n",
      "Средняя прогнозная прибыль равна 425.939 млрд.рублей\n",
      "Возможная прибыль: от -102.09 до 947.976 млрд.рублей\n",
      "Риск убытков составляет 6.0 %\n",
      "\n",
      "Расчет прибыли и рисков для региона 1:\n",
      "Средняя прогнозная прибыль равна 518.259 млрд.рублей\n",
      "Возможная прибыль: от 128.123 до 953.613 млрд.рублей\n",
      "Риск убытков составляет 0.3 %\n",
      "\n",
      "Расчет прибыли и рисков для региона 2:\n",
      "Средняя прогнозная прибыль равна 420.194 млрд.рублей\n",
      "Возможная прибыль: от -115.853 до 989.63 млрд.рублей\n",
      "Риск убытков составляет 6.2 %\n",
      "\n"
     ]
    }
   ],
   "source": [
    "state = np.random.RandomState(12345)\n",
    "\n",
    "def resultation(target, predict):\n",
    "    profit_region=[] # список для сбора значений прибыли отобранных скважин\n",
    "    for i in range(1000): \n",
    "        target_subsample = target.sample(n=500, replace=True, random_state=state)\n",
    "        pred_subsample = predict[target_subsample.index]  \n",
    "        result = revenue(target_subsample, pred_subsample, 200) #обращаемся к функции расчета прибыли\n",
    "        profit_region.append(result) \n",
    "\n",
    "    profit_region = pd.Series(profit_region)\n",
    "    losses = (profit_region < 0).mean()*100 # считаем процентное отношение количества отрицательных значений прибыли\n",
    "    profit_region_mean = profit_region.mean()\n",
    "    lower = profit_region.quantile(0.025) \n",
    "    upper = profit_region.quantile(0.975)\n",
    "    print(f'Средняя прогнозная прибыль равна {(profit_region_mean).round(3)} млрд.рублей')\n",
    "    print(f'Возможная прибыль: от {(lower).round(3)} до {(upper).round(3)} млрд.рублей')\n",
    "    print(f'Риск убытков составляет {losses} %')\n",
    "\n",
    "for region in range(len(df_all)):\n",
    "    print(f'Расчет прибыли и рисков для региона {region}:')\n",
    "    resultation(target[region],prediction[region])\n",
    "    print() "
   ]
  },
  {
   "cell_type": "markdown",
   "metadata": {},
   "source": [
    "Очевидно, что, исходя из полученных данных: минимальных рисков убытков(0,3%) и максимальной средней средней прибыли(518 млрд.руб.) наилучший регион для разработки - это регион 1\n",
    "    "
   ]
  },
  {
   "cell_type": "markdown",
   "metadata": {},
   "source": [
    "### Общий вывод\n",
    "\n",
    "В ходе исследования была обработана информация геологоразведки трёх регионов. \n",
    "\n",
    "Для каждого региона была построена модель для предсказания объёма запасов в новых скважинах и определена прибыль, которую должна принести добыча нефти. Для каждого региона были отобраны скважины с самыми высокими оценками значений. В результате проведенного исследования определено, что наилучший регион для разработки - это регион 1, поскольку по сравнению с другими регионами добыча нефти в нем сопряжена с минимальными рисков от убытков(0,3%), при том что есть возможность получить максимальную среднюю прибыль(518 млрд.руб.)."
   ]
  }
 ],
 "metadata": {
  "ExecuteTimeLog": [
   {
    "duration": 51,
    "start_time": "2022-04-13T03:31:45.209Z"
   },
   {
    "duration": 1796,
    "start_time": "2022-04-13T03:31:50.906Z"
   },
   {
    "duration": 388,
    "start_time": "2022-04-13T03:31:52.704Z"
   },
   {
    "duration": 383,
    "start_time": "2022-04-13T03:32:11.151Z"
   },
   {
    "duration": 465,
    "start_time": "2022-04-13T03:32:47.076Z"
   },
   {
    "duration": 410,
    "start_time": "2022-04-13T03:32:58.624Z"
   },
   {
    "duration": 418,
    "start_time": "2022-04-13T03:33:26.614Z"
   },
   {
    "duration": 421,
    "start_time": "2022-04-13T03:33:58.882Z"
   },
   {
    "duration": 453,
    "start_time": "2022-04-13T03:37:52.080Z"
   },
   {
    "duration": 20,
    "start_time": "2022-04-13T03:42:47.361Z"
   },
   {
    "duration": 14,
    "start_time": "2022-04-13T03:43:12.297Z"
   },
   {
    "duration": 4,
    "start_time": "2022-04-13T03:43:33.367Z"
   },
   {
    "duration": 448,
    "start_time": "2022-04-13T03:43:33.375Z"
   },
   {
    "duration": 41,
    "start_time": "2022-04-13T03:43:36.530Z"
   },
   {
    "duration": 14,
    "start_time": "2022-04-13T03:44:39.053Z"
   },
   {
    "duration": 4,
    "start_time": "2022-04-13T03:44:49.137Z"
   },
   {
    "duration": 446,
    "start_time": "2022-04-13T03:44:49.146Z"
   },
   {
    "duration": 45,
    "start_time": "2022-04-13T03:44:52.659Z"
   },
   {
    "duration": 15,
    "start_time": "2022-04-13T03:45:22.832Z"
   },
   {
    "duration": 4,
    "start_time": "2022-04-13T03:45:29.436Z"
   },
   {
    "duration": 429,
    "start_time": "2022-04-13T03:45:29.444Z"
   },
   {
    "duration": 4,
    "start_time": "2022-04-13T03:45:34.589Z"
   },
   {
    "duration": 448,
    "start_time": "2022-04-13T03:45:34.597Z"
   },
   {
    "duration": 48,
    "start_time": "2022-04-13T03:46:33.527Z"
   },
   {
    "duration": 4,
    "start_time": "2022-04-13T03:46:43.428Z"
   },
   {
    "duration": 442,
    "start_time": "2022-04-13T03:46:43.434Z"
   },
   {
    "duration": 4,
    "start_time": "2022-04-13T03:47:23.611Z"
   },
   {
    "duration": 449,
    "start_time": "2022-04-13T03:47:23.617Z"
   },
   {
    "duration": 46,
    "start_time": "2022-04-13T03:47:24.068Z"
   },
   {
    "duration": 16,
    "start_time": "2022-04-13T03:47:47.808Z"
   },
   {
    "duration": 4,
    "start_time": "2022-04-13T03:47:50.541Z"
   },
   {
    "duration": 465,
    "start_time": "2022-04-13T03:47:50.549Z"
   },
   {
    "duration": 4,
    "start_time": "2022-04-13T03:47:55.694Z"
   },
   {
    "duration": 447,
    "start_time": "2022-04-13T03:47:55.702Z"
   },
   {
    "duration": 49,
    "start_time": "2022-04-13T03:47:56.151Z"
   },
   {
    "duration": 15,
    "start_time": "2022-04-13T03:49:45.642Z"
   },
   {
    "duration": 5,
    "start_time": "2022-04-13T03:49:49.557Z"
   },
   {
    "duration": 457,
    "start_time": "2022-04-13T03:49:49.565Z"
   },
   {
    "duration": 33,
    "start_time": "2022-04-13T03:49:57.977Z"
   },
   {
    "duration": 17,
    "start_time": "2022-04-13T03:50:16.289Z"
   },
   {
    "duration": 4,
    "start_time": "2022-04-13T03:50:24.833Z"
   },
   {
    "duration": 445,
    "start_time": "2022-04-13T03:50:24.842Z"
   },
   {
    "duration": 18,
    "start_time": "2022-04-13T03:50:25.290Z"
   },
   {
    "duration": 1524,
    "start_time": "2022-04-13T03:50:48.252Z"
   },
   {
    "duration": 472,
    "start_time": "2022-04-13T03:50:49.778Z"
   },
   {
    "duration": 36,
    "start_time": "2022-04-13T03:50:50.252Z"
   },
   {
    "duration": 5,
    "start_time": "2022-04-13T04:19:33.042Z"
   },
   {
    "duration": 476,
    "start_time": "2022-04-13T04:19:33.051Z"
   },
   {
    "duration": 112,
    "start_time": "2022-04-13T04:19:36.505Z"
   },
   {
    "duration": 4,
    "start_time": "2022-04-13T04:20:25.197Z"
   },
   {
    "duration": 486,
    "start_time": "2022-04-13T04:20:25.205Z"
   },
   {
    "duration": 10,
    "start_time": "2022-04-13T04:20:29.960Z"
   },
   {
    "duration": 10,
    "start_time": "2022-04-13T04:20:33.376Z"
   },
   {
    "duration": 35,
    "start_time": "2022-04-13T04:22:34.131Z"
   },
   {
    "duration": 50,
    "start_time": "2022-04-13T16:53:26.777Z"
   },
   {
    "duration": 1826,
    "start_time": "2022-04-13T16:53:30.906Z"
   },
   {
    "duration": 424,
    "start_time": "2022-04-13T16:53:32.734Z"
   },
   {
    "duration": 60,
    "start_time": "2022-04-13T16:53:33.160Z"
   },
   {
    "duration": 10,
    "start_time": "2022-04-13T16:53:36.996Z"
   },
   {
    "duration": 10,
    "start_time": "2022-04-13T16:54:03.831Z"
   },
   {
    "duration": 5,
    "start_time": "2022-04-13T16:56:14.783Z"
   },
   {
    "duration": 466,
    "start_time": "2022-04-13T16:56:14.793Z"
   },
   {
    "duration": 72,
    "start_time": "2022-04-13T16:56:15.262Z"
   },
   {
    "duration": 10,
    "start_time": "2022-04-13T16:56:15.335Z"
   },
   {
    "duration": 133,
    "start_time": "2022-04-13T16:56:15.348Z"
   },
   {
    "duration": 4,
    "start_time": "2022-04-13T17:00:33.112Z"
   },
   {
    "duration": 105,
    "start_time": "2022-04-13T17:00:35.073Z"
   },
   {
    "duration": 4,
    "start_time": "2022-04-13T17:00:47.142Z"
   },
   {
    "duration": 36,
    "start_time": "2022-04-13T17:00:48.867Z"
   },
   {
    "duration": 21,
    "start_time": "2022-04-13T17:02:52.403Z"
   },
   {
    "duration": 3,
    "start_time": "2022-04-13T17:04:50.278Z"
   },
   {
    "duration": 12,
    "start_time": "2022-04-13T17:05:15.832Z"
   },
   {
    "duration": 9,
    "start_time": "2022-04-13T17:05:18.143Z"
   },
   {
    "duration": 11,
    "start_time": "2022-04-13T17:06:30.247Z"
   },
   {
    "duration": 5,
    "start_time": "2022-04-13T17:07:12.756Z"
   },
   {
    "duration": 12,
    "start_time": "2022-04-13T17:07:27.803Z"
   },
   {
    "duration": 19,
    "start_time": "2022-04-13T17:08:00.981Z"
   },
   {
    "duration": 17,
    "start_time": "2022-04-13T17:09:00.734Z"
   },
   {
    "duration": 6,
    "start_time": "2022-04-13T17:10:46.131Z"
   },
   {
    "duration": 606,
    "start_time": "2022-04-13T17:10:46.140Z"
   },
   {
    "duration": 41,
    "start_time": "2022-04-13T17:10:46.748Z"
   },
   {
    "duration": 12,
    "start_time": "2022-04-13T17:10:46.818Z"
   },
   {
    "duration": 9,
    "start_time": "2022-04-13T17:10:46.833Z"
   },
   {
    "duration": 29,
    "start_time": "2022-04-13T17:10:46.846Z"
   },
   {
    "duration": 14,
    "start_time": "2022-04-13T17:10:46.877Z"
   },
   {
    "duration": 16,
    "start_time": "2022-04-13T17:10:50.903Z"
   },
   {
    "duration": 12,
    "start_time": "2022-04-13T17:33:58.549Z"
   },
   {
    "duration": 30,
    "start_time": "2022-04-13T17:34:19.178Z"
   },
   {
    "duration": 47,
    "start_time": "2022-04-13T17:36:32.540Z"
   },
   {
    "duration": 44,
    "start_time": "2022-04-13T17:37:37.348Z"
   },
   {
    "duration": 36,
    "start_time": "2022-04-13T17:58:37.290Z"
   },
   {
    "duration": 16,
    "start_time": "2022-04-13T18:17:53.317Z"
   },
   {
    "duration": 5,
    "start_time": "2022-04-13T18:17:57.392Z"
   },
   {
    "duration": 465,
    "start_time": "2022-04-13T18:17:57.402Z"
   },
   {
    "duration": 62,
    "start_time": "2022-04-13T18:17:57.869Z"
   },
   {
    "duration": 9,
    "start_time": "2022-04-13T18:17:57.934Z"
   },
   {
    "duration": 11,
    "start_time": "2022-04-13T18:17:57.945Z"
   },
   {
    "duration": 9,
    "start_time": "2022-04-13T18:17:57.958Z"
   },
   {
    "duration": 9,
    "start_time": "2022-04-13T18:17:57.969Z"
   },
   {
    "duration": 14,
    "start_time": "2022-04-13T18:17:57.979Z"
   },
   {
    "duration": 58,
    "start_time": "2022-04-13T18:17:57.994Z"
   },
   {
    "duration": 13,
    "start_time": "2022-04-13T18:18:03.006Z"
   },
   {
    "duration": 12,
    "start_time": "2022-04-13T18:18:21.259Z"
   },
   {
    "duration": 14,
    "start_time": "2022-04-13T18:19:39.347Z"
   },
   {
    "duration": 15,
    "start_time": "2022-04-13T18:19:40.597Z"
   },
   {
    "duration": 141,
    "start_time": "2022-04-13T18:19:44.139Z"
   },
   {
    "duration": 4,
    "start_time": "2022-04-13T18:20:28.454Z"
   },
   {
    "duration": 5,
    "start_time": "2022-04-13T18:20:36.889Z"
   },
   {
    "duration": 15,
    "start_time": "2022-04-13T18:21:54.995Z"
   },
   {
    "duration": 12,
    "start_time": "2022-04-13T18:22:21.106Z"
   },
   {
    "duration": 4,
    "start_time": "2022-04-13T18:22:49.769Z"
   },
   {
    "duration": 170,
    "start_time": "2022-04-13T18:23:01.950Z"
   },
   {
    "duration": 264,
    "start_time": "2022-04-13T18:23:41.770Z"
   },
   {
    "duration": 127,
    "start_time": "2022-04-13T18:24:00.899Z"
   },
   {
    "duration": 273,
    "start_time": "2022-04-13T18:24:05.159Z"
   },
   {
    "duration": 164,
    "start_time": "2022-04-13T18:24:31.858Z"
   },
   {
    "duration": 139,
    "start_time": "2022-04-13T18:24:43.393Z"
   },
   {
    "duration": 411,
    "start_time": "2022-04-13T18:40:38.509Z"
   },
   {
    "duration": 391,
    "start_time": "2022-04-13T18:41:40.027Z"
   },
   {
    "duration": 166,
    "start_time": "2022-04-13T18:42:00.759Z"
   },
   {
    "duration": 226,
    "start_time": "2022-04-13T18:42:23.400Z"
   },
   {
    "duration": 27,
    "start_time": "2022-04-13T18:42:47.642Z"
   },
   {
    "duration": 134,
    "start_time": "2022-04-13T18:43:23.012Z"
   },
   {
    "duration": 138,
    "start_time": "2022-04-13T18:43:32.248Z"
   },
   {
    "duration": 133,
    "start_time": "2022-04-13T18:43:42.686Z"
   },
   {
    "duration": 142,
    "start_time": "2022-04-13T18:44:03.357Z"
   },
   {
    "duration": 179,
    "start_time": "2022-04-13T18:44:08.243Z"
   },
   {
    "duration": 5,
    "start_time": "2022-04-13T18:59:53.217Z"
   },
   {
    "duration": 443,
    "start_time": "2022-04-13T18:59:53.225Z"
   },
   {
    "duration": 60,
    "start_time": "2022-04-13T18:59:53.670Z"
   },
   {
    "duration": 10,
    "start_time": "2022-04-13T18:59:53.732Z"
   },
   {
    "duration": 8,
    "start_time": "2022-04-13T18:59:53.744Z"
   },
   {
    "duration": 9,
    "start_time": "2022-04-13T18:59:53.753Z"
   },
   {
    "duration": 8,
    "start_time": "2022-04-13T18:59:53.764Z"
   },
   {
    "duration": 8,
    "start_time": "2022-04-13T18:59:53.775Z"
   },
   {
    "duration": 69,
    "start_time": "2022-04-13T18:59:53.785Z"
   },
   {
    "duration": 171,
    "start_time": "2022-04-13T18:59:53.856Z"
   },
   {
    "duration": 515,
    "start_time": "2022-04-13T19:04:55.284Z"
   },
   {
    "duration": 6,
    "start_time": "2022-04-13T19:33:28.248Z"
   },
   {
    "duration": 6,
    "start_time": "2022-04-13T19:33:59.542Z"
   },
   {
    "duration": 4,
    "start_time": "2022-04-14T04:10:40.741Z"
   },
   {
    "duration": 415,
    "start_time": "2022-04-14T04:10:40.749Z"
   },
   {
    "duration": 57,
    "start_time": "2022-04-14T04:10:41.167Z"
   },
   {
    "duration": 137,
    "start_time": "2022-04-14T04:10:41.225Z"
   },
   {
    "duration": 0,
    "start_time": "2022-04-14T04:10:41.364Z"
   },
   {
    "duration": 1,
    "start_time": "2022-04-14T04:10:41.365Z"
   },
   {
    "duration": 0,
    "start_time": "2022-04-14T04:10:41.367Z"
   },
   {
    "duration": 0,
    "start_time": "2022-04-14T04:10:41.368Z"
   },
   {
    "duration": 0,
    "start_time": "2022-04-14T04:10:41.369Z"
   },
   {
    "duration": 5,
    "start_time": "2022-04-14T04:11:05.436Z"
   },
   {
    "duration": 440,
    "start_time": "2022-04-14T04:11:05.443Z"
   },
   {
    "duration": 54,
    "start_time": "2022-04-14T04:11:05.885Z"
   },
   {
    "duration": 483,
    "start_time": "2022-04-14T04:11:05.942Z"
   },
   {
    "duration": 33,
    "start_time": "2022-04-14T04:11:06.427Z"
   },
   {
    "duration": 262,
    "start_time": "2022-04-14T04:11:06.461Z"
   },
   {
    "duration": 96,
    "start_time": "2022-04-14T04:11:06.725Z"
   },
   {
    "duration": 101,
    "start_time": "2022-04-14T04:11:06.824Z"
   },
   {
    "duration": 6,
    "start_time": "2022-04-14T04:11:30.946Z"
   },
   {
    "duration": 133,
    "start_time": "2022-04-14T04:47:01.993Z"
   },
   {
    "duration": 16,
    "start_time": "2022-04-14T04:47:09.269Z"
   },
   {
    "duration": 15,
    "start_time": "2022-04-14T04:47:19.011Z"
   },
   {
    "duration": 4,
    "start_time": "2022-04-14T04:47:56.326Z"
   },
   {
    "duration": 423,
    "start_time": "2022-04-14T04:47:56.334Z"
   },
   {
    "duration": 65,
    "start_time": "2022-04-14T04:47:56.760Z"
   },
   {
    "duration": 405,
    "start_time": "2022-04-14T04:47:56.828Z"
   },
   {
    "duration": 35,
    "start_time": "2022-04-14T04:47:57.236Z"
   },
   {
    "duration": 249,
    "start_time": "2022-04-14T04:47:57.274Z"
   },
   {
    "duration": 5,
    "start_time": "2022-04-14T04:48:02.660Z"
   },
   {
    "duration": 4,
    "start_time": "2022-04-14T04:48:09.196Z"
   },
   {
    "duration": 15,
    "start_time": "2022-04-14T04:48:10.198Z"
   },
   {
    "duration": 16,
    "start_time": "2022-04-14T04:48:11.514Z"
   },
   {
    "duration": 15,
    "start_time": "2022-04-14T04:48:12.172Z"
   },
   {
    "duration": 15,
    "start_time": "2022-04-14T04:48:12.833Z"
   },
   {
    "duration": 16,
    "start_time": "2022-04-14T04:48:20.409Z"
   },
   {
    "duration": 15,
    "start_time": "2022-04-14T04:48:23.243Z"
   },
   {
    "duration": 15,
    "start_time": "2022-04-14T04:48:23.768Z"
   },
   {
    "duration": 14,
    "start_time": "2022-04-14T04:48:24.196Z"
   },
   {
    "duration": 15,
    "start_time": "2022-04-14T04:48:24.588Z"
   },
   {
    "duration": 4,
    "start_time": "2022-04-14T04:48:37.900Z"
   },
   {
    "duration": 428,
    "start_time": "2022-04-14T04:48:37.909Z"
   },
   {
    "duration": 38,
    "start_time": "2022-04-14T04:48:38.339Z"
   },
   {
    "duration": 446,
    "start_time": "2022-04-14T04:48:38.380Z"
   },
   {
    "duration": 37,
    "start_time": "2022-04-14T04:48:38.828Z"
   },
   {
    "duration": 256,
    "start_time": "2022-04-14T04:48:38.867Z"
   },
   {
    "duration": 11,
    "start_time": "2022-04-14T04:48:41.484Z"
   },
   {
    "duration": 12,
    "start_time": "2022-04-14T04:48:45.779Z"
   },
   {
    "duration": 5,
    "start_time": "2022-04-14T04:48:55.847Z"
   },
   {
    "duration": 484,
    "start_time": "2022-04-14T04:51:48.340Z"
   },
   {
    "duration": 4,
    "start_time": "2022-04-14T04:54:03.514Z"
   },
   {
    "duration": 519,
    "start_time": "2022-04-14T04:54:03.523Z"
   },
   {
    "duration": 33,
    "start_time": "2022-04-14T04:54:04.044Z"
   },
   {
    "duration": 429,
    "start_time": "2022-04-14T04:54:04.079Z"
   },
   {
    "duration": 39,
    "start_time": "2022-04-14T04:54:04.510Z"
   },
   {
    "duration": 275,
    "start_time": "2022-04-14T04:54:04.551Z"
   },
   {
    "duration": 5,
    "start_time": "2022-04-14T04:54:07.572Z"
   },
   {
    "duration": 5,
    "start_time": "2022-04-14T04:54:35.659Z"
   },
   {
    "duration": 5,
    "start_time": "2022-04-14T04:58:49.710Z"
   },
   {
    "duration": 5,
    "start_time": "2022-04-14T04:58:56.386Z"
   },
   {
    "duration": 8,
    "start_time": "2022-04-14T05:07:09.049Z"
   },
   {
    "duration": 8,
    "start_time": "2022-04-14T05:08:13.880Z"
   },
   {
    "duration": 13,
    "start_time": "2022-04-14T05:09:38.137Z"
   },
   {
    "duration": 4,
    "start_time": "2022-04-14T05:09:42.329Z"
   },
   {
    "duration": 459,
    "start_time": "2022-04-14T05:09:42.337Z"
   },
   {
    "duration": 49,
    "start_time": "2022-04-14T05:09:42.798Z"
   },
   {
    "duration": 438,
    "start_time": "2022-04-14T05:09:42.849Z"
   },
   {
    "duration": 47,
    "start_time": "2022-04-14T05:09:43.290Z"
   },
   {
    "duration": 284,
    "start_time": "2022-04-14T05:09:43.339Z"
   },
   {
    "duration": 14,
    "start_time": "2022-04-14T05:09:55.067Z"
   },
   {
    "duration": 10,
    "start_time": "2022-04-14T05:11:04.376Z"
   },
   {
    "duration": 13,
    "start_time": "2022-04-14T05:11:19.315Z"
   },
   {
    "duration": 159,
    "start_time": "2022-04-14T05:11:31.487Z"
   },
   {
    "duration": 9,
    "start_time": "2022-04-14T05:11:35.956Z"
   },
   {
    "duration": 1573,
    "start_time": "2022-04-14T16:45:24.403Z"
   },
   {
    "duration": 859,
    "start_time": "2022-04-14T16:45:25.978Z"
   },
   {
    "duration": 28,
    "start_time": "2022-04-14T16:45:26.839Z"
   },
   {
    "duration": 346,
    "start_time": "2022-04-14T16:45:26.869Z"
   },
   {
    "duration": 42,
    "start_time": "2022-04-14T16:45:27.216Z"
   },
   {
    "duration": 169,
    "start_time": "2022-04-14T16:45:27.259Z"
   },
   {
    "duration": 99,
    "start_time": "2022-04-14T16:45:33.925Z"
   },
   {
    "duration": 10,
    "start_time": "2022-04-14T16:46:18.747Z"
   },
   {
    "duration": 4,
    "start_time": "2022-04-14T16:46:24.775Z"
   },
   {
    "duration": 334,
    "start_time": "2022-04-14T16:46:24.782Z"
   },
   {
    "duration": 29,
    "start_time": "2022-04-14T16:46:25.124Z"
   },
   {
    "duration": 399,
    "start_time": "2022-04-14T16:46:25.154Z"
   },
   {
    "duration": 28,
    "start_time": "2022-04-14T16:46:25.554Z"
   },
   {
    "duration": 241,
    "start_time": "2022-04-14T16:46:25.583Z"
   },
   {
    "duration": 101,
    "start_time": "2022-04-14T16:46:25.828Z"
   },
   {
    "duration": 0,
    "start_time": "2022-04-14T16:46:25.930Z"
   },
   {
    "duration": 0,
    "start_time": "2022-04-14T16:46:25.931Z"
   },
   {
    "duration": 0,
    "start_time": "2022-04-14T16:46:25.932Z"
   },
   {
    "duration": 8,
    "start_time": "2022-04-14T16:46:57.301Z"
   },
   {
    "duration": 6,
    "start_time": "2022-04-14T16:47:33.421Z"
   },
   {
    "duration": 7,
    "start_time": "2022-04-14T16:50:33.382Z"
   },
   {
    "duration": 3,
    "start_time": "2022-04-14T16:50:53.284Z"
   },
   {
    "duration": 12,
    "start_time": "2022-04-14T16:51:01.675Z"
   },
   {
    "duration": 21,
    "start_time": "2022-04-14T16:52:05.997Z"
   },
   {
    "duration": 10,
    "start_time": "2022-04-14T16:55:57.040Z"
   },
   {
    "duration": 9,
    "start_time": "2022-04-14T16:56:01.462Z"
   },
   {
    "duration": 9,
    "start_time": "2022-04-14T16:56:05.927Z"
   },
   {
    "duration": 7,
    "start_time": "2022-04-14T16:56:09.714Z"
   },
   {
    "duration": 3,
    "start_time": "2022-04-14T16:57:04.909Z"
   },
   {
    "duration": 333,
    "start_time": "2022-04-14T16:57:04.920Z"
   },
   {
    "duration": 25,
    "start_time": "2022-04-14T16:57:05.254Z"
   },
   {
    "duration": 364,
    "start_time": "2022-04-14T16:57:05.280Z"
   },
   {
    "duration": 29,
    "start_time": "2022-04-14T16:57:05.646Z"
   },
   {
    "duration": 249,
    "start_time": "2022-04-14T16:57:05.676Z"
   },
   {
    "duration": 7,
    "start_time": "2022-04-14T16:57:05.926Z"
   },
   {
    "duration": 6,
    "start_time": "2022-04-14T16:57:06.024Z"
   },
   {
    "duration": 9,
    "start_time": "2022-04-14T16:57:06.031Z"
   },
   {
    "duration": 4,
    "start_time": "2022-04-14T16:57:06.041Z"
   },
   {
    "duration": 23,
    "start_time": "2022-04-14T16:57:06.047Z"
   },
   {
    "duration": 5,
    "start_time": "2022-04-14T16:58:14.412Z"
   },
   {
    "duration": 5,
    "start_time": "2022-04-14T16:58:17.915Z"
   },
   {
    "duration": 4,
    "start_time": "2022-04-14T16:58:25.462Z"
   },
   {
    "duration": 12,
    "start_time": "2022-04-14T16:58:34.005Z"
   },
   {
    "duration": 11,
    "start_time": "2022-04-14T16:58:35.238Z"
   },
   {
    "duration": 11,
    "start_time": "2022-04-14T16:58:35.988Z"
   },
   {
    "duration": 12,
    "start_time": "2022-04-14T16:58:36.807Z"
   },
   {
    "duration": 12,
    "start_time": "2022-04-14T16:58:37.522Z"
   },
   {
    "duration": 11,
    "start_time": "2022-04-14T16:58:38.254Z"
   },
   {
    "duration": 12,
    "start_time": "2022-04-14T16:58:38.927Z"
   },
   {
    "duration": 6,
    "start_time": "2022-04-14T16:59:26.671Z"
   },
   {
    "duration": 5,
    "start_time": "2022-04-14T17:00:41.558Z"
   },
   {
    "duration": 5,
    "start_time": "2022-04-14T17:00:45.850Z"
   },
   {
    "duration": 3,
    "start_time": "2022-04-14T17:00:47.185Z"
   },
   {
    "duration": 13,
    "start_time": "2022-04-14T17:00:49.567Z"
   },
   {
    "duration": 16,
    "start_time": "2022-04-14T17:00:57.275Z"
   },
   {
    "duration": 4,
    "start_time": "2022-04-14T17:01:28.513Z"
   },
   {
    "duration": 17,
    "start_time": "2022-04-14T17:01:30.412Z"
   },
   {
    "duration": 17,
    "start_time": "2022-04-14T17:02:17.297Z"
   },
   {
    "duration": 18,
    "start_time": "2022-04-14T17:02:42.689Z"
   },
   {
    "duration": 507,
    "start_time": "2022-04-14T17:03:05.335Z"
   },
   {
    "duration": 17,
    "start_time": "2022-04-14T17:03:15.179Z"
   },
   {
    "duration": 18,
    "start_time": "2022-04-14T18:08:49.461Z"
   },
   {
    "duration": 13,
    "start_time": "2022-04-14T18:08:51.571Z"
   },
   {
    "duration": 10,
    "start_time": "2022-04-14T18:11:14.308Z"
   },
   {
    "duration": 7,
    "start_time": "2022-04-14T18:16:06.945Z"
   },
   {
    "duration": 12,
    "start_time": "2022-04-14T18:17:43.896Z"
   },
   {
    "duration": 14,
    "start_time": "2022-04-14T18:18:52.943Z"
   },
   {
    "duration": 15,
    "start_time": "2022-04-14T18:21:35.433Z"
   },
   {
    "duration": 45,
    "start_time": "2022-04-14T18:41:55.302Z"
   },
   {
    "duration": 137,
    "start_time": "2022-04-14T18:42:04.693Z"
   },
   {
    "duration": 145,
    "start_time": "2022-04-14T18:42:35.890Z"
   },
   {
    "duration": 1683,
    "start_time": "2022-04-14T18:52:04.420Z"
   },
   {
    "duration": 1171,
    "start_time": "2022-04-14T18:52:55.914Z"
   },
   {
    "duration": 1176,
    "start_time": "2022-04-14T18:53:32.043Z"
   },
   {
    "duration": 1260,
    "start_time": "2022-04-14T18:53:47.085Z"
   },
   {
    "duration": 1270,
    "start_time": "2022-04-14T18:55:04.737Z"
   },
   {
    "duration": 4,
    "start_time": "2022-04-14T18:59:08.743Z"
   },
   {
    "duration": 416,
    "start_time": "2022-04-14T18:59:08.751Z"
   },
   {
    "duration": 30,
    "start_time": "2022-04-14T18:59:09.169Z"
   },
   {
    "duration": 496,
    "start_time": "2022-04-14T18:59:09.201Z"
   },
   {
    "duration": 35,
    "start_time": "2022-04-14T18:59:09.699Z"
   },
   {
    "duration": 117,
    "start_time": "2022-04-14T18:59:09.736Z"
   },
   {
    "duration": 88,
    "start_time": "2022-04-14T18:59:09.943Z"
   },
   {
    "duration": 20,
    "start_time": "2022-04-14T18:59:10.032Z"
   },
   {
    "duration": 7,
    "start_time": "2022-04-14T18:59:10.054Z"
   },
   {
    "duration": 4,
    "start_time": "2022-04-14T18:59:10.063Z"
   },
   {
    "duration": 23,
    "start_time": "2022-04-14T18:59:10.069Z"
   },
   {
    "duration": 1424,
    "start_time": "2022-04-14T18:59:10.093Z"
   },
   {
    "duration": 15,
    "start_time": "2022-04-14T18:59:11.519Z"
   },
   {
    "duration": 1240,
    "start_time": "2022-04-14T19:01:14.285Z"
   },
   {
    "duration": 1336,
    "start_time": "2022-04-14T19:01:19.944Z"
   },
   {
    "duration": 1399,
    "start_time": "2022-04-14T19:01:23.008Z"
   },
   {
    "duration": 1286,
    "start_time": "2022-04-14T19:01:39.525Z"
   },
   {
    "duration": 3543,
    "start_time": "2022-04-14T19:04:31.941Z"
   },
   {
    "duration": 3477,
    "start_time": "2022-04-14T19:04:52.902Z"
   },
   {
    "duration": 3632,
    "start_time": "2022-04-14T19:06:15.569Z"
   },
   {
    "duration": 3694,
    "start_time": "2022-04-14T19:06:33.104Z"
   },
   {
    "duration": 3558,
    "start_time": "2022-04-14T19:06:41.322Z"
   },
   {
    "duration": 18,
    "start_time": "2022-04-14T19:08:37.939Z"
   },
   {
    "duration": 3418,
    "start_time": "2022-04-14T19:28:21.430Z"
   },
   {
    "duration": 3474,
    "start_time": "2022-04-14T19:28:51.118Z"
   },
   {
    "duration": 5,
    "start_time": "2022-04-14T19:32:25.496Z"
   },
   {
    "duration": 5,
    "start_time": "2022-04-14T19:33:02.085Z"
   },
   {
    "duration": 9,
    "start_time": "2022-04-14T19:34:16.565Z"
   },
   {
    "duration": 6,
    "start_time": "2022-04-14T19:36:40.210Z"
   },
   {
    "duration": 133,
    "start_time": "2022-04-14T19:36:56.504Z"
   },
   {
    "duration": 6,
    "start_time": "2022-04-14T19:37:06.081Z"
   },
   {
    "duration": 1671,
    "start_time": "2022-04-14T19:40:14.176Z"
   },
   {
    "duration": 494,
    "start_time": "2022-04-14T19:40:15.850Z"
   },
   {
    "duration": 41,
    "start_time": "2022-04-14T19:40:16.346Z"
   },
   {
    "duration": 560,
    "start_time": "2022-04-14T19:40:16.389Z"
   },
   {
    "duration": 49,
    "start_time": "2022-04-14T19:40:16.951Z"
   },
   {
    "duration": 135,
    "start_time": "2022-04-14T19:40:17.002Z"
   },
   {
    "duration": 96,
    "start_time": "2022-04-14T19:40:17.138Z"
   },
   {
    "duration": 90,
    "start_time": "2022-04-14T19:40:17.238Z"
   },
   {
    "duration": 6,
    "start_time": "2022-04-14T19:40:17.329Z"
   },
   {
    "duration": 3314,
    "start_time": "2022-04-14T19:40:17.337Z"
   },
   {
    "duration": 5,
    "start_time": "2022-04-14T19:50:30.475Z"
   },
   {
    "duration": 1343,
    "start_time": "2022-04-14T19:50:52.357Z"
   },
   {
    "duration": 476,
    "start_time": "2022-04-14T19:50:53.702Z"
   },
   {
    "duration": 52,
    "start_time": "2022-04-14T19:50:54.180Z"
   },
   {
    "duration": 346,
    "start_time": "2022-04-14T19:50:54.234Z"
   },
   {
    "duration": 52,
    "start_time": "2022-04-14T19:50:54.581Z"
   },
   {
    "duration": 191,
    "start_time": "2022-04-14T19:50:54.635Z"
   },
   {
    "duration": 95,
    "start_time": "2022-04-14T19:50:54.829Z"
   },
   {
    "duration": 8,
    "start_time": "2022-04-14T19:50:54.926Z"
   },
   {
    "duration": 5,
    "start_time": "2022-04-14T19:50:54.936Z"
   },
   {
    "duration": 3518,
    "start_time": "2022-04-14T19:50:54.943Z"
   },
   {
    "duration": 2244,
    "start_time": "2022-04-15T03:34:17.227Z"
   },
   {
    "duration": 550,
    "start_time": "2022-04-15T03:34:19.474Z"
   },
   {
    "duration": 53,
    "start_time": "2022-04-15T03:34:20.027Z"
   },
   {
    "duration": 697,
    "start_time": "2022-04-15T03:34:20.084Z"
   },
   {
    "duration": 159,
    "start_time": "2022-04-15T03:34:33.396Z"
   },
   {
    "duration": 7,
    "start_time": "2022-04-15T03:35:32.885Z"
   },
   {
    "duration": 17,
    "start_time": "2022-04-15T03:35:48.271Z"
   },
   {
    "duration": 0,
    "start_time": "2022-04-15T03:35:48.290Z"
   },
   {
    "duration": 0,
    "start_time": "2022-04-15T03:35:48.292Z"
   },
   {
    "duration": 0,
    "start_time": "2022-04-15T03:35:48.294Z"
   },
   {
    "duration": 11,
    "start_time": "2022-04-15T03:35:51.752Z"
   },
   {
    "duration": 13,
    "start_time": "2022-04-15T03:35:54.773Z"
   },
   {
    "duration": 12,
    "start_time": "2022-04-15T03:36:58.489Z"
   },
   {
    "duration": 17,
    "start_time": "2022-04-15T03:37:01.401Z"
   },
   {
    "duration": 0,
    "start_time": "2022-04-15T03:37:01.422Z"
   },
   {
    "duration": 0,
    "start_time": "2022-04-15T03:37:01.424Z"
   },
   {
    "duration": 0,
    "start_time": "2022-04-15T03:37:01.426Z"
   },
   {
    "duration": 14,
    "start_time": "2022-04-15T03:37:01.430Z"
   },
   {
    "duration": 12,
    "start_time": "2022-04-15T03:37:04.898Z"
   },
   {
    "duration": 17,
    "start_time": "2022-04-15T03:38:29.459Z"
   },
   {
    "duration": 13,
    "start_time": "2022-04-15T03:38:47.876Z"
   },
   {
    "duration": 8,
    "start_time": "2022-04-15T03:39:24.022Z"
   },
   {
    "duration": 5,
    "start_time": "2022-04-15T03:40:24.574Z"
   },
   {
    "duration": 530,
    "start_time": "2022-04-15T03:40:24.582Z"
   },
   {
    "duration": 48,
    "start_time": "2022-04-15T03:40:25.126Z"
   },
   {
    "duration": 748,
    "start_time": "2022-04-15T03:40:25.176Z"
   },
   {
    "duration": 52,
    "start_time": "2022-04-15T03:40:25.927Z"
   },
   {
    "duration": 249,
    "start_time": "2022-04-15T03:40:25.982Z"
   },
   {
    "duration": 97,
    "start_time": "2022-04-15T03:40:26.233Z"
   },
   {
    "duration": 104,
    "start_time": "2022-04-15T03:40:26.333Z"
   },
   {
    "duration": 5,
    "start_time": "2022-04-15T03:40:26.439Z"
   },
   {
    "duration": 5679,
    "start_time": "2022-04-15T03:40:59.752Z"
   },
   {
    "duration": 5646,
    "start_time": "2022-04-15T03:41:13.712Z"
   },
   {
    "duration": 117,
    "start_time": "2022-04-15T03:47:10.252Z"
   },
   {
    "duration": 1962,
    "start_time": "2022-04-15T03:47:22.240Z"
   },
   {
    "duration": 650,
    "start_time": "2022-04-15T03:47:24.205Z"
   },
   {
    "duration": 83,
    "start_time": "2022-04-15T03:47:24.857Z"
   },
   {
    "duration": 688,
    "start_time": "2022-04-15T03:47:24.943Z"
   },
   {
    "duration": 59,
    "start_time": "2022-04-15T03:47:25.633Z"
   },
   {
    "duration": 339,
    "start_time": "2022-04-15T03:47:25.694Z"
   },
   {
    "duration": 189,
    "start_time": "2022-04-15T03:47:26.036Z"
   },
   {
    "duration": 173,
    "start_time": "2022-04-15T03:47:26.227Z"
   },
   {
    "duration": 0,
    "start_time": "2022-04-15T03:47:26.402Z"
   },
   {
    "duration": 0,
    "start_time": "2022-04-15T03:47:26.404Z"
   },
   {
    "duration": 2131,
    "start_time": "2022-04-15T03:47:59.682Z"
   },
   {
    "duration": 554,
    "start_time": "2022-04-15T03:48:01.816Z"
   },
   {
    "duration": 74,
    "start_time": "2022-04-15T03:48:02.372Z"
   },
   {
    "duration": 656,
    "start_time": "2022-04-15T03:48:02.449Z"
   },
   {
    "duration": 66,
    "start_time": "2022-04-15T03:48:03.107Z"
   },
   {
    "duration": 450,
    "start_time": "2022-04-15T03:48:03.176Z"
   },
   {
    "duration": 100,
    "start_time": "2022-04-15T03:48:03.630Z"
   },
   {
    "duration": 17,
    "start_time": "2022-04-15T03:48:03.732Z"
   },
   {
    "duration": 14,
    "start_time": "2022-04-15T03:48:03.752Z"
   },
   {
    "duration": 5526,
    "start_time": "2022-04-15T03:48:03.770Z"
   }
  ],
  "kernelspec": {
   "display_name": "Python 3 (ipykernel)",
   "language": "python",
   "name": "python3"
  },
  "language_info": {
   "codemirror_mode": {
    "name": "ipython",
    "version": 3
   },
   "file_extension": ".py",
   "mimetype": "text/x-python",
   "name": "python",
   "nbconvert_exporter": "python",
   "pygments_lexer": "ipython3",
   "version": "3.9.5"
  },
  "toc": {
   "base_numbering": 1,
   "nav_menu": {},
   "number_sections": true,
   "sideBar": true,
   "skip_h1_title": true,
   "title_cell": "Table of Contents",
   "title_sidebar": "Contents",
   "toc_cell": false,
   "toc_position": {},
   "toc_section_display": true,
   "toc_window_display": false
  }
 },
 "nbformat": 4,
 "nbformat_minor": 2
}
